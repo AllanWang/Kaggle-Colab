{
  "nbformat": 4,
  "nbformat_minor": 0,
  "metadata": {
    "colab": {
      "name": "Kaggle Git Template.ipynb",
      "version": "0.3.2",
      "provenance": [],
      "collapsed_sections": [],
      "toc_visible": true,
      "include_colab_link": true
    },
    "kernelspec": {
      "name": "python3",
      "display_name": "Python 3"
    }
  },
  "cells": [
    {
      "cell_type": "markdown",
      "metadata": {
        "id": "view-in-github",
        "colab_type": "text"
      },
      "source": [
        "<a href=\"https://colab.research.google.com/github/AllanWang/Kaggle-Colab/blob/master/Kaggle_Git_Template.ipynb\" target=\"_parent\"><img src=\"https://colab.research.google.com/assets/colab-badge.svg\" alt=\"Open In Colab\"/></a>"
      ]
    },
    {
      "metadata": {
        "id": "RgBmTGXZt-uq",
        "colab_type": "text"
      },
      "cell_type": "markdown",
      "source": [
        "# Kaggle + Git + Colab\n",
        "\n",
        "This notebook contains some helper functions to import kaggle data, and run an external project."
      ]
    },
    {
      "metadata": {
        "id": "TWsqcB8GI471",
        "colab_type": "text"
      },
      "cell_type": "markdown",
      "source": [
        "## Public Set Up\n",
        "\n",
        "Kaggle + Git setup using field variables.\n",
        "If you don't want the fields to be visible, there is another variant below that reads user input.\n",
        "Note that whenever the runtime is reset, all unsaved data and variables are removed.\n",
        "All set up operations will clean the directories beforehand.\n",
        "\n",
        "Fields:\n",
        "\n",
        "| | |\n",
        "|---|---|\n",
        "| Kaggle Username | Username for Kaggle |\n",
        "| Kaggle Token | Kaggle api token, generated from your account page |\n",
        "| Kaggle Competition Url | Url segment of the form \"https://www.kaggle.com/c/{competition-url}\" |\n",
        "| Github Username | Username for Github |\n",
        "| Github Token | Token generated from [github settings](https://github.com/settings/tokens) |\n",
        "| Github Slug | Url segment of the form \"https://github.com/{github_slug}\" (owner/repo) |"
      ]
    },
    {
      "metadata": {
        "id": "2hwwTBQlJTPn",
        "colab_type": "code",
        "colab": {}
      },
      "cell_type": "code",
      "source": [
        "# Load Kaggle Data\n",
        "\n",
        "%cd /content\n",
        "\n",
        "!rm '/root/.kaggle/kaggle.json'\n",
        "kaggle_username = '' #@param {type: 'string'}\n",
        "kaggle_token = '' #@param {type: 'string'}\n",
        "\n",
        "import json\n",
        "token = {'username':kaggle_username,'key':kaggle_token}\n",
        "!mkdir '/root/.kaggle'\n",
        "with open('/root/.kaggle/kaggle.json', 'w') as file:\n",
        "    json.dump(token, file)\n",
        "    \n",
        "!chmod 600 /root/.kaggle/kaggle.json\n",
        "\n",
        "kaggle_competition_url = '' #@param {type: 'string'}\n",
        "\n",
        "!kaggle config set -n path -v '/content'\n",
        "!kaggle competitions download -c \"$kaggle_competition_url\" --force\n",
        "!rm -rf \"/content/kaggle_data\"\n",
        "!cp -r \"/content/competitions/$kaggle_competition_url\" \"/content/kaggle_data\"\n",
        "\n",
        "import os\n",
        "import zipfile\n",
        "\n",
        "for path, dir_list, file_list in os.walk(\"/content/kaggle_data\"):\n",
        "    for file_name in file_list:\n",
        "        if file_name.endswith(\".zip\"):\n",
        "            print(\"Unzipping \" + file_name)\n",
        "            abs_file_path = os.path.join(path, file_name)\n",
        "            parent_path = os.path.dirname(abs_file_path)\n",
        "            zip_obj = zipfile.ZipFile(abs_file_path, 'r')\n",
        "            zip_obj.extractall(parent_path)\n",
        "            zip_obj.close()\n",
        "            \n",
        "print(\"Saved kaggle data to /content/kaggle_data\")\n",
        "!rm '/root/.kaggle/kaggle.json'\n",
        "\n",
        "# Load Github Data\n",
        "\n",
        "github_username = '' #@param {type: 'string'}\n",
        "github_token = '' #@param {type: 'string'}\n",
        "\n",
        "credential = \"https://\" + github_username + \":\" + github_token + \"@github.com/\"\n",
        "\n",
        "!echo \"$credential\" > \".git-credentials\"\n",
        "\n",
        "!git config --global credential.helper 'store --file .git-credentials'\n",
        "\n",
        "repo_slug = 'owner/repo' #@param {type: 'string'}\n",
        "\n",
        "git_url = \"https://github.com/\" + repo_slug + \".git\"\n",
        "\n",
        "!rm -rf \"/content/github\"\n",
        "\n",
        "!git clone \"$git_url\" \"/content/github\"\n",
        "\n",
        "print(\"Cloned repo to /content/github\")\n",
        "\n",
        "\n",
        "\n"
      ],
      "execution_count": 0,
      "outputs": []
    },
    {
      "metadata": {
        "id": "6xAfVMkZK-UE",
        "colab_type": "text"
      },
      "cell_type": "markdown",
      "source": [
        "## Private Kaggle Set Up"
      ]
    },
    {
      "metadata": {
        "id": "rSzdtg1FLBeh",
        "colab_type": "code",
        "colab": {}
      },
      "cell_type": "code",
      "source": [
        "%cd /content\n",
        "\n",
        "import getpass\n",
        "\n",
        "!rm '/root/.kaggle/kaggle.json'\n",
        "kaggle_username = input('Enter kaggle username\\n')\n",
        "print('Enter kaggle token')\n",
        "kaggle_token = getpass.getpass()\n",
        "\n",
        "import json\n",
        "token = {'username':kaggle_username,'key':kaggle_token}\n",
        "!mkdir '/root/.kaggle'\n",
        "with open('/root/.kaggle/kaggle.json', 'w') as file:\n",
        "    json.dump(token, file)\n",
        "    \n",
        "!chmod 600 /root/.kaggle/kaggle.json\n",
        "\n",
        "kaggle_competition_url = input('Enter competition url segment\\n')\n",
        "\n",
        "!kaggle config set -n path -v '/content'\n",
        "!kaggle competitions download -c \"$kaggle_competition_url\" --force\n",
        "!rm -rf \"/content/kaggle_data\"\n",
        "!cp -r \"/content/competitions/$kaggle_competition_url\" \"/content/kaggle_data\"\n",
        "\n",
        "import os\n",
        "import zipfile\n",
        "\n",
        "for path, dir_list, file_list in os.walk(\"/content/kaggle_data\"):\n",
        "    for file_name in file_list:\n",
        "        if file_name.endswith(\".zip\"):\n",
        "            print(\"Unzipping \" + file_name)\n",
        "            abs_file_path = os.path.join(path, file_name)\n",
        "            parent_path = os.path.dirname(abs_file_path)\n",
        "            zip_obj = zipfile.ZipFile(abs_file_path, 'r')\n",
        "            zip_obj.extractall(parent_path)\n",
        "            zip_obj.close()\n",
        "            \n",
        "print(\"Saved kaggle data to /content/kaggle_data\")\n",
        "!rm '/root/.kaggle/kaggle.json'"
      ],
      "execution_count": 0,
      "outputs": []
    },
    {
      "metadata": {
        "id": "oSri18kELsJR",
        "colab_type": "text"
      },
      "cell_type": "markdown",
      "source": [
        "## Private Github Set Up"
      ]
    },
    {
      "metadata": {
        "id": "_g0NfUeTLtuz",
        "colab_type": "code",
        "colab": {}
      },
      "cell_type": "code",
      "source": [
        "%cd /content\n",
        "\n",
        "import getpass\n",
        "\n",
        "github_username = input('Enter Github Username\\n')\n",
        "print('Enter Github Token')\n",
        "github_token = getpass.getpass()\n",
        "\n",
        "credential = \"https://\" + github_username + \":\" + github_token + \"@github.com/\"\n",
        "\n",
        "!echo \"$credential\" > \".git-credentials\"\n",
        "\n",
        "!git config --global credential.helper 'store --file .git-credentials'\n",
        "\n",
        "repo_slug = input('Enter Github Slug\\n')\n",
        "\n",
        "git_url = \"https://github.com/\" + repo_slug + \".git\"\n",
        "\n",
        "!rm -rf \"/content/github\"\n",
        "\n",
        "!git clone \"$git_url\" \"/content/github\"\n",
        "\n",
        "print(\"Cloned repo to /content/github\")"
      ],
      "execution_count": 0,
      "outputs": []
    },
    {
      "metadata": {
        "id": "_PUpx7hl-eji",
        "colab_type": "text"
      },
      "cell_type": "markdown",
      "source": [
        "# Run Project\n",
        "\n",
        "Fetch from github again and run specified commands.\n",
        "Make sure you've updated your runtime settings if you are using a GPU."
      ]
    },
    {
      "metadata": {
        "id": "l6YWY-6b5v-O",
        "colab_type": "code",
        "colab": {}
      },
      "cell_type": "code",
      "source": [
        "%cd /content/github\n",
        "\n",
        "!git config --global credential.helper 'store --file ../.git-credentials'\n",
        "\n",
        "!git fetch -ap \n",
        "\n",
        "branch = 'master' #@param {type: 'string'}\n",
        "\n",
        "!git checkout \"$branch\"\n",
        "!git pull\n",
        "\n",
        "%env PYTHONPATH=/content/github\n",
        "\n",
        "# Add run commands here!\n"
      ],
      "execution_count": 0,
      "outputs": []
    }
  ]
}