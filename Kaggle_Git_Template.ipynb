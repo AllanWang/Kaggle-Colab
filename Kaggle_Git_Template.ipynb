{
  "nbformat": 4,
  "nbformat_minor": 0,
  "metadata": {
    "colab": {
      "name": "Kaggle Git Template.ipynb",
      "version": "0.3.2",
      "provenance": [],
      "collapsed_sections": [],
      "toc_visible": true,
      "include_colab_link": true
    },
    "kernelspec": {
      "name": "python3",
      "display_name": "Python 3"
    }
  },
  "cells": [
    {
      "cell_type": "markdown",
      "metadata": {
        "id": "view-in-github",
        "colab_type": "text"
      },
      "source": [
        "<a href=\"https://colab.research.google.com/github/AllanWang/Kaggle-Colab/blob/master/Kaggle_Git_Template.ipynb\" target=\"_parent\"><img src=\"https://colab.research.google.com/assets/colab-badge.svg\" alt=\"Open In Colab\"/></a>"
      ]
    },
    {
      "metadata": {
        "id": "RgBmTGXZt-uq",
        "colab_type": "text"
      },
      "cell_type": "markdown",
      "source": [
        "# Kaggle + Git + Colab\n",
        "\n",
        "This notebook contains some helper functions to import kaggle data, and run an external project"
      ]
    },
    {
      "metadata": {
        "id": "BWUFn-O-t8JU",
        "colab_type": "text"
      },
      "cell_type": "markdown",
      "source": [
        "## Import Kaggle Data\n",
        "\n",
        "1. Enter the competition url in the form. (\"https://www.kaggle.com/c/{comperition-url}\")\n",
        "2. Go to Kaggle and generate an API key.\n",
        "3. Paste them in as inputs\n",
        "\n",
        "If run successfully, all the data should be loaded and unziped under `/content/kaggle_data`"
      ]
    },
    {
      "metadata": {
        "id": "Eqw4o7PSt7jP",
        "colab_type": "code",
        "colab": {}
      },
      "cell_type": "code",
      "source": [
        "import getpass\n",
        "\n",
        "!rm -rf /content/kaggle_data\n",
        "\n",
        "competition_url = 'titanic' #@param {type: 'string'}\n",
        "username = input(\"Enter username\\n\")\n",
        "print(\"Enter kaggle key for \" + username)\n",
        "kaggle_key = getpass.getpass()\n",
        "\n",
        "import json\n",
        "token = {'username':username,'key':kaggle_key}\n",
        "!mkdir '/root/.kaggle'\n",
        "with open('/root/.kaggle/kaggle.json', 'w') as file:\n",
        "    json.dump(token, file)\n",
        "    \n",
        "!chmod 600 /root/.kaggle/kaggle.json\n",
        "!kaggle config set -n path -v '/content'\n",
        "!kaggle competitions download -c \"$competition_url\" --force\n",
        "!cp -r \"/content/competitions/$competition_url\" \"/content/kaggle_data\"\n",
        "\n",
        "import os\n",
        "import zipfile\n",
        "\n",
        "for path, dir_list, file_list in os.walk(\"/content/kaggle_data\"):\n",
        "    for file_name in file_list:\n",
        "        if file_name.endswith(\".zip\"):\n",
        "            print(\"Unzipping \" + file_name)\n",
        "            abs_file_path = os.path.join(path, file_name)\n",
        "            parent_path = os.path.dirname(abs_file_path)\n",
        "            zip_obj = zipfile.ZipFile(abs_file_path, 'r')\n",
        "            zip_obj.extractall(parent_path)\n",
        "            zip_obj.close()"
      ],
      "execution_count": 0,
      "outputs": []
    },
    {
      "metadata": {
        "id": "kbfGw_Fxyp5Q",
        "colab_type": "text"
      },
      "cell_type": "markdown",
      "source": [
        "# Init Git Repo\n",
        "\n"
      ]
    },
    {
      "metadata": {
        "id": "Sso3XIhGvWC2",
        "colab_type": "code",
        "colab": {}
      },
      "cell_type": "code",
      "source": [
        "%cd /content\n",
        "\n",
        "import getpass\n",
        "\n",
        "print(\"Enter username\")\n",
        "username = getpass.getpass()\n",
        "print(\"Enter token\")\n",
        "token = getpass.getpass()\n",
        "credential = \"https://\" + username + \":\" + token + \"@github.com/\"\n",
        "\n",
        "!echo \"$credential\" >> \".git-credentials\"\n",
        "\n",
        "!git config --global credential.helper 'store --file .git-credentials'\n",
        "\n",
        "print(\"Saved credentials\")\n",
        "\n",
        "repo_slug = 'owner/repo' #@param {type: 'string'}\n",
        "git_url = \"https://github.com/\" + repo_slug + \".git\"\n",
        "\n",
        "!git clone \"$git_url\" \"/content/github\"\n",
        "\n",
        "print(\"Cloned repo to /content/github\")\n",
        "\n",
        "\n"
      ],
      "execution_count": 0,
      "outputs": []
    },
    {
      "metadata": {
        "id": "_PUpx7hl-eji",
        "colab_type": "text"
      },
      "cell_type": "markdown",
      "source": [
        "# Run Project\n",
        "\n",
        "Fetch from github again and run specified commands"
      ]
    },
    {
      "metadata": {
        "id": "l6YWY-6b5v-O",
        "colab_type": "code",
        "colab": {}
      },
      "cell_type": "code",
      "source": [
        "%cd /content/github\n",
        "\n",
        "!git config --global credential.helper 'store --file ../.git-credentials'\n",
        "\n",
        "!git fetch -ap \n",
        "\n",
        "branch = 'master' #@param {type: 'string'}\n",
        "\n",
        "!git checkout \"$branch\"\n",
        "!git pull\n",
        "\n",
        "%env PYTHONPATH=/content/github\n",
        "\n",
        "# Add run commands here!\n"
      ],
      "execution_count": 0,
      "outputs": []
    }
  ]
}